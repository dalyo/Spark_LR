{
 "cells": [
  {
   "cell_type": "code",
   "execution_count": 1,
   "id": "35907341",
   "metadata": {},
   "outputs": [],
   "source": [
    "import os\n",
    "from pyspark.ml.evaluation import RegressionEvaluator\n",
    "from pyspark.ml.feature import VectorAssembler\n",
    "from pyspark.ml.linalg import Vectors\n",
    "from pyspark.ml.regression import LinearRegression\n",
    "from pyspark.sql import SparkSession\n",
    "from pyspark.sql import functions as F"
   ]
  },
  {
   "cell_type": "code",
   "execution_count": 2,
   "id": "93266a6f",
   "metadata": {},
   "outputs": [],
   "source": [
    "os.environ['HADOOP_HOME'] = \"C:\\\\spark-3.2.0-bin-hadoop3.2\""
   ]
  },
  {
   "cell_type": "code",
   "execution_count": 3,
   "id": "eb7c2956",
   "metadata": {},
   "outputs": [],
   "source": [
    "spark = SparkSession.builder.appName(\"App Driver...\").master(\"local[4]\").getOrCreate()"
   ]
  },
  {
   "cell_type": "code",
   "execution_count": 4,
   "id": "e4208307",
   "metadata": {},
   "outputs": [
    {
     "name": "stdout",
     "output_type": "stream",
     "text": [
      "[('spark.master', 'local[4]'), ('spark.rdd.compress', 'True'), ('spark.driver.port', '52604'), ('spark.serializer.objectStreamReset', '100'), ('spark.app.startTime', '1635189732027'), ('spark.submit.pyFiles', ''), ('spark.executor.id', 'driver'), ('spark.submit.deployMode', 'client'), ('spark.driver.host', 'LAPTOP-CA8SB239'), ('spark.sql.warehouse.dir', 'file:/C:/Users/Sid%20Ousmane/spark-warehouse'), ('spark.app.id', 'local-1635189732975'), ('spark.app.name', 'App Driver...'), ('spark.ui.showConsoleProgress', 'true')]\n"
     ]
    }
   ],
   "source": [
    "spark.sparkContext.setLogLevel(\"ERROR\")\n",
    "print(spark.sparkContext.getConf().getAll())"
   ]
  },
  {
   "cell_type": "code",
   "execution_count": 5,
   "id": "0a512f9c",
   "metadata": {},
   "outputs": [],
   "source": [
    "input_file = \"C:/Users/Sid Ousmane/Documents/IAA/séminaire 1/kc_house_data.csv\""
   ]
  },
  {
   "cell_type": "code",
   "execution_count": 6,
   "id": "ce4daa81",
   "metadata": {},
   "outputs": [],
   "source": [
    "raw_data_df = spark.read.option(\"header\",\"true\").csv(input_file)"
   ]
  },
  {
   "cell_type": "code",
   "execution_count": 7,
   "id": "a62b7885",
   "metadata": {},
   "outputs": [
    {
     "data": {
      "text/plain": [
       "<bound method DataFrame.printSchema of DataFrame[id: string, date: string, price: string, bedrooms: string, bathrooms: string, sqft_living: string, sqft_lot: string, floors: string, waterfront: string, view: string, condition: string, grade: string, sqft_above: string, sqft_basement: string, yr_built: string, yr_renovated: string, zipcode: string, lat: string, long: string, sqft_living15: string, sqft_lot15: string]>"
      ]
     },
     "execution_count": 7,
     "metadata": {},
     "output_type": "execute_result"
    }
   ],
   "source": [
    "raw_data_df.printSchema"
   ]
  },
  {
   "cell_type": "code",
   "execution_count": 8,
   "id": "91c069d1",
   "metadata": {},
   "outputs": [
    {
     "name": "stdout",
     "output_type": "stream",
     "text": [
      "Number of rows:  21613\n"
     ]
    }
   ],
   "source": [
    "print('Number of rows: ', raw_data_df.count())"
   ]
  },
  {
   "cell_type": "code",
   "execution_count": 9,
   "id": "4a4e42c7",
   "metadata": {
    "scrolled": true
   },
   "outputs": [
    {
     "name": "stdout",
     "output_type": "stream",
     "text": [
      "+----------+---------------+------+--------+---------+-----------+--------+------+----------+----+---------+-----+----------+-------------+--------+------------+-------+-------+--------+-------------+----------+\n",
      "|id        |date           |price |bedrooms|bathrooms|sqft_living|sqft_lot|floors|waterfront|view|condition|grade|sqft_above|sqft_basement|yr_built|yr_renovated|zipcode|lat    |long    |sqft_living15|sqft_lot15|\n",
      "+----------+---------------+------+--------+---------+-----------+--------+------+----------+----+---------+-----+----------+-------------+--------+------------+-------+-------+--------+-------------+----------+\n",
      "|7129300520|20141013T000000|221900|3       |1        |1180       |5650    |1     |0         |0   |3        |7    |1180      |0            |1955    |0           |98178  |47.5112|-122.257|1340         |5650      |\n",
      "|6414100192|20141209T000000|538000|3       |2.25     |2570       |7242    |2     |0         |0   |3        |7    |2170      |400          |1951    |1991        |98125  |47.721 |-122.319|1690         |7639      |\n",
      "|5631500400|20150225T000000|180000|2       |1        |770        |10000   |1     |0         |0   |3        |6    |770       |0            |1933    |0           |98028  |47.7379|-122.233|2720         |8062      |\n",
      "|2487200875|20141209T000000|604000|4       |3        |1960       |5000    |1     |0         |0   |5        |7    |1050      |910          |1965    |0           |98136  |47.5208|-122.393|1360         |5000      |\n",
      "|1954400510|20150218T000000|510000|3       |2        |1680       |8080    |1     |0         |0   |3        |8    |1680      |0            |1987    |0           |98074  |47.6168|-122.045|1800         |7503      |\n",
      "+----------+---------------+------+--------+---------+-----------+--------+------+----------+----+---------+-----+----------+-------------+--------+------------+-------+-------+--------+-------------+----------+\n",
      "only showing top 5 rows\n",
      "\n"
     ]
    }
   ],
   "source": [
    "raw_data_df.show(5, truncate=False)"
   ]
  },
  {
   "cell_type": "code",
   "execution_count": 10,
   "id": "42bfbb63",
   "metadata": {},
   "outputs": [],
   "source": [
    "raw_data_df.createOrReplaceTempView(\"KingCountyHouses\")"
   ]
  },
  {
   "cell_type": "code",
   "execution_count": 11,
   "id": "efb8d93f",
   "metadata": {},
   "outputs": [],
   "source": [
    "query = 'SELECT zipcode, avg(price) avgPrice '\\\n",
    "        'FROM KingCountyHouses '\\\n",
    "        'GROUP BY zipcode ' \\\n",
    "        'ORDER BY avgPrice DESC'"
   ]
  },
  {
   "cell_type": "code",
   "execution_count": 12,
   "id": "1fae3727",
   "metadata": {},
   "outputs": [],
   "source": [
    "result = spark.sql(query)"
   ]
  },
  {
   "cell_type": "code",
   "execution_count": 13,
   "id": "74bbc76d",
   "metadata": {},
   "outputs": [
    {
     "name": "stdout",
     "output_type": "stream",
     "text": [
      "+-------+------------------+\n",
      "|zipcode|          avgPrice|\n",
      "+-------+------------------+\n",
      "|  98039|         2160606.6|\n",
      "|  98004|1355927.0820189274|\n",
      "|  98040|1194230.0212765958|\n",
      "|  98112| 1095499.342007435|\n",
      "|  98102| 901258.2666666667|\n",
      "|  98109| 879623.6238532111|\n",
      "|  98105| 862825.2314410481|\n",
      "|  98006| 859684.7791164658|\n",
      "|  98119| 849448.0163043478|\n",
      "|  98005|        810164.875|\n",
      "|  98033| 803719.5231481482|\n",
      "|  98199|  791820.807570978|\n",
      "|  98075| 790576.6545961003|\n",
      "|  98074|  685605.775510204|\n",
      "|  98077| 682774.8787878788|\n",
      "|  98053| 678163.0592592593|\n",
      "|  98177| 676185.3921568628|\n",
      "|  98008| 645507.3780918728|\n",
      "|  98052|  645231.456445993|\n",
      "|  98122| 634360.1793103449|\n",
      "+-------+------------------+\n",
      "only showing top 20 rows\n",
      "\n"
     ]
    }
   ],
   "source": [
    "result.show()"
   ]
  },
  {
   "cell_type": "code",
   "execution_count": 14,
   "id": "ec9097b7",
   "metadata": {},
   "outputs": [],
   "source": [
    "fact_table_query = 'SELECT bedrooms, bathrooms, sqft_living, sqft_lot, price' \\\n",
    "                    ' FROM  KingCountyHouses'"
   ]
  },
  {
   "cell_type": "code",
   "execution_count": 15,
   "id": "00612e11",
   "metadata": {},
   "outputs": [
    {
     "name": "stdout",
     "output_type": "stream",
     "text": [
      "+--------+---------+-----------+--------+---------+\n",
      "|bedrooms|bathrooms|sqft_living|sqft_lot|    price|\n",
      "+--------+---------+-----------+--------+---------+\n",
      "|     3.0|      1.0|     1180.0|  5650.0| 221900.0|\n",
      "|     3.0|     2.25|     2570.0|  7242.0| 538000.0|\n",
      "|     2.0|      1.0|      770.0| 10000.0| 180000.0|\n",
      "|     4.0|      3.0|     1960.0|  5000.0| 604000.0|\n",
      "|     3.0|      2.0|     1680.0|  8080.0| 510000.0|\n",
      "|     4.0|      4.5|     5420.0|101930.0|1225000.0|\n",
      "|     3.0|     2.25|     1715.0|  6819.0| 257500.0|\n",
      "|     3.0|      1.5|     1060.0|  9711.0| 291850.0|\n",
      "|     3.0|      1.0|     1780.0|  7470.0| 229500.0|\n",
      "|     3.0|      2.5|     1890.0|  6560.0| 323000.0|\n",
      "|     3.0|      2.5|     3560.0|  9796.0| 662500.0|\n",
      "|     2.0|      1.0|     1160.0|  6000.0| 468000.0|\n",
      "|     3.0|      1.0|     1430.0| 19901.0| 310000.0|\n",
      "|     3.0|     1.75|     1370.0|  9680.0| 400000.0|\n",
      "|     5.0|      2.0|     1810.0|  4850.0| 530000.0|\n",
      "|     4.0|      3.0|     2950.0|  5000.0| 650000.0|\n",
      "|     3.0|      2.0|     1890.0| 14040.0| 395000.0|\n",
      "|     4.0|      1.0|     1600.0|  4300.0| 485000.0|\n",
      "|     2.0|      1.0|     1200.0|  9850.0| 189000.0|\n",
      "|     3.0|      1.0|     1250.0|  9774.0| 230000.0|\n",
      "+--------+---------+-----------+--------+---------+\n",
      "only showing top 20 rows\n",
      "\n"
     ]
    }
   ],
   "source": [
    "fact_table = spark.sql(fact_table_query)\n",
    "fact_table = fact_table.select(*(F.col(c).cast('float').alias(c) for c in fact_table.columns))\n",
    "fact_table.show()"
   ]
  },
  {
   "cell_type": "code",
   "execution_count": null,
   "id": "80abef37",
   "metadata": {},
   "outputs": [],
   "source": []
  },
  {
   "cell_type": "code",
   "execution_count": null,
   "id": "85fb50fd",
   "metadata": {},
   "outputs": [],
   "source": []
  },
  {
   "cell_type": "markdown",
   "id": "34d5054f",
   "metadata": {},
   "source": [
    "# Regression lineaire avec PySpark"
   ]
  },
  {
   "cell_type": "code",
   "execution_count": 16,
   "id": "74879942",
   "metadata": {},
   "outputs": [],
   "source": [
    "# Mettons les données sous la forme de d'un couple (labelo, features)\n",
    "features = ['bedrooms', 'bathrooms', 'sqft_living', 'sqft_lot']\n",
    "vectorAssembler = VectorAssembler(inputCols=features, outputCol='features')\n",
    "fact_df = vectorAssembler.transform(fact_table)\n",
    "fact_df = fact_df.select(['features', 'price'])"
   ]
  },
  {
   "cell_type": "code",
   "execution_count": 17,
   "id": "7fbfe7eb",
   "metadata": {},
   "outputs": [
    {
     "name": "stdout",
     "output_type": "stream",
     "text": [
      "nombre d'iteration:  10\n",
      "objective historique:  [0.5, 0.45618203070336844, 0.33210399191215556, 0.29229958639810133, 0.2763400517547125, 0.2668392840264362, 0.2601244734641173, 0.25295248749683713, 0.2506322455641146, 0.24883007039356209, 0.24755509067246323]\n"
     ]
    }
   ],
   "source": [
    "# Etudions l'évolution des prix des maisons\n",
    "train_data, test_data = fact_df.randomSplit([0.75, 0.25])\n",
    "\n",
    "lr = LinearRegression(featuresCol='features', labelCol='price',\n",
    "                     maxIter=10, regParam=0.3, elasticNetParam=0.8)\n",
    "\n",
    "lrModel = lr.fit(train_data)\n",
    "\n",
    "\n",
    "# Affichons les coefficients et l'intercept pour la regression logistique\n",
    "trainingSummary = lrModel.summary\n",
    "print(\"nombre d'iteration: \", trainingSummary.totalIterations)\n",
    "print(\"objective historique: \", str(trainingSummary.objectiveHistory))"
   ]
  },
  {
   "cell_type": "code",
   "execution_count": 18,
   "id": "1742f2cd",
   "metadata": {},
   "outputs": [
    {
     "name": "stdout",
     "output_type": "stream",
     "text": [
      "+------------------+---------+--------------------+--------------------+\n",
      "|        Prediction|    price|            Accuracy|            features|\n",
      "+------------------+---------+--------------------+--------------------+\n",
      "|180438.68843722742| 142000.0|  -27.06949889945593|[0.0,0.0,290.0,20...|\n",
      "| 557422.2025759039| 380000.0|  -46.69005330944838|[0.0,0.0,1470.0,9...|\n",
      "| 862508.3390181202| 355000.0| -142.96009549806203|[0.0,0.0,2460.0,8...|\n",
      "|1585205.8804395886|1295650.0| -22.348310148542318|[0.0,0.0,4810.0,2...|\n",
      "| 219204.2097058549|  75000.0| -192.27227960780655|[1.0,0.0,670.0,43...|\n",
      "|234921.36246798674| 484000.0|   51.46252841570522|[1.0,0.0,690.0,23...|\n",
      "|187116.38628554292| 145000.0|  -29.04578364520201|[1.0,0.75,480.0,9...|\n",
      "|202812.42694310925| 310000.0|  34.576636469964754|[1.0,0.75,520.0,2...|\n",
      "| 223316.8777861139| 202000.0| -10.552909795105895|[1.0,0.75,590.0,5...|\n",
      "|248604.47067526786| 190000.0| -30.844458250140978|[1.0,0.75,780.0,7...|\n",
      "|  328790.393751844| 351000.0|   6.327523147622791|[1.0,0.75,930.0,6...|\n",
      "| 363325.6947479718| 272000.0| -33.575623069107266|[1.0,0.75,1040.0,...|\n",
      "|400001.23871703295| 275000.0|  -45.45499589710289|[1.0,0.75,1170.0,...|\n",
      "|193314.75383226614| 170000.0| -13.714561077803614|[1.0,1.0,480.0,45...|\n",
      "| 208047.9605627677| 238000.0|  12.584890519845507|[1.0,1.0,530.0,63...|\n",
      "| 214584.8907448012| 290000.0|  26.005210087999586|[1.0,1.0,550.0,57...|\n",
      "| 218444.7010772091|  90000.0|  -142.7163345302323|[1.0,1.0,560.0,41...|\n",
      "|223224.08723502827| 315000.0|  29.135210401578327|[1.0,1.0,580.0,72...|\n",
      "| 233135.5005792443| 314200.0|  25.800286257401556|[1.0,1.0,610.0,60...|\n",
      "|250314.19081796892| 250000.0|-0.12567632718756794|[1.0,1.0,660.0,26...|\n",
      "+------------------+---------+--------------------+--------------------+\n",
      "only showing top 20 rows\n",
      "\n"
     ]
    }
   ],
   "source": [
    "# test du modèle\n",
    "predictions =lrModel.transform(test_data)\n",
    "x = ((predictions['price'] - predictions['prediction'])/predictions['price'])*100\n",
    "predictions = predictions.withColumn('Accuracy', x)\n",
    "predictions.select(\"Prediction\", \"price\", \"Accuracy\", \"features\").show()"
   ]
  },
  {
   "cell_type": "code",
   "execution_count": 19,
   "id": "e1a1748b",
   "metadata": {},
   "outputs": [
    {
     "name": "stdout",
     "output_type": "stream",
     "text": [
      "R carré (R2) sur les données de test:  0.5161835960714858\n"
     ]
    }
   ],
   "source": [
    "# La valeur du R carré pour la base de test\n",
    "predictions_eveluator = RegressionEvaluator(predictionCol=\"prediction\", labelCol=\"price\", metricName=\"r2\")\n",
    "print(\"R carré (R2) sur les données de test: \", predictions_eveluator.evaluate(predictions))"
   ]
  },
  {
   "cell_type": "code",
   "execution_count": 20,
   "id": "ca67fa5b",
   "metadata": {},
   "outputs": [],
   "source": [
    "spark.stop()"
   ]
  },
  {
   "cell_type": "code",
   "execution_count": null,
   "id": "c769ba7e",
   "metadata": {},
   "outputs": [],
   "source": []
  }
 ],
 "metadata": {
  "kernelspec": {
   "display_name": "Python 3",
   "language": "python",
   "name": "python3"
  },
  "language_info": {
   "codemirror_mode": {
    "name": "ipython",
    "version": 3
   },
   "file_extension": ".py",
   "mimetype": "text/x-python",
   "name": "python",
   "nbconvert_exporter": "python",
   "pygments_lexer": "ipython3",
   "version": "3.8.11"
  }
 },
 "nbformat": 4,
 "nbformat_minor": 5
}
